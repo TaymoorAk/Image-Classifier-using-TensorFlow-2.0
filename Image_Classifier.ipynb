{
  "nbformat": 4,
  "nbformat_minor": 0,
  "metadata": {
    "colab": {
      "name": "Image Classifier.ipynb",
      "version": "0.3.2",
      "provenance": []
    },
    "kernelspec": {
      "name": "python3",
      "display_name": "Python 3"
    }
  },
  "cells": [
    {
      "metadata": {
        "id": "Src458B_yb01",
        "colab_type": "text"
      },
      "cell_type": "markdown",
      "source": [
        "## Image Classifier "
      ]
    },
    {
      "metadata": {
        "id": "BA2d11-uvO0V",
        "colab_type": "code",
        "colab": {}
      },
      "cell_type": "code",
      "source": [
        "import tensorflow_datasets as tfds\n",
        "import tensorflow as tf\n",
        "from tensorflow.keras.layers import Dense, Flatten, Conv2D\n",
        "from tensorflow.keras import Model"
      ],
      "execution_count": 0,
      "outputs": []
    },
    {
      "metadata": {
        "id": "nU6_OUs-yscw",
        "colab_type": "text"
      },
      "cell_type": "markdown",
      "source": [
        "#### Loading and preparing dataset"
      ]
    },
    {
      "metadata": {
        "id": "UAZLyflUyI1f",
        "colab_type": "code",
        "colab": {}
      },
      "cell_type": "code",
      "source": [
        "dataset , info = tfds.load('mnist',with_info=True, as_supervised=True)"
      ],
      "execution_count": 0,
      "outputs": []
    },
    {
      "metadata": {
        "id": "PupJjrq0zA2c",
        "colab_type": "text"
      },
      "cell_type": "markdown",
      "source": [
        "####Training and Test Sets"
      ]
    },
    {
      "metadata": {
        "id": "n2KahFDxy71p",
        "colab_type": "code",
        "colab": {}
      },
      "cell_type": "code",
      "source": [
        "mnist_train, mnist_test = dataset['train'], dataset['test']"
      ],
      "execution_count": 0,
      "outputs": []
    },
    {
      "metadata": {
        "id": "5PLkHuNwzrcp",
        "colab_type": "text"
      },
      "cell_type": "markdown",
      "source": [
        "#### Converting samples from integers to floating-point numbers."
      ]
    },
    {
      "metadata": {
        "id": "wd55lJSCzqLV",
        "colab_type": "code",
        "colab": {}
      },
      "cell_type": "code",
      "source": [
        "def convert_types(image, label):\n",
        "  image = tf.cast(image, tf.float32)\n",
        "  image /= 255\n",
        "  return image, label"
      ],
      "execution_count": 0,
      "outputs": []
    },
    {
      "metadata": {
        "id": "RODp8yCvz5LT",
        "colab_type": "code",
        "colab": {}
      },
      "cell_type": "code",
      "source": [
        "mnist_train = mnist_train.map(convert_types).shuffle(10000).batch(32)\n",
        "mnist_test = mnist_test.map(convert_types).batch(32)"
      ],
      "execution_count": 0,
      "outputs": []
    },
    {
      "metadata": {
        "id": "fixn0fS50VWt",
        "colab_type": "text"
      },
      "cell_type": "markdown",
      "source": [
        "#### Building model using KERAS model Subclass API"
      ]
    },
    {
      "metadata": {
        "id": "5JD9CKWF0Onc",
        "colab_type": "code",
        "colab": {}
      },
      "cell_type": "code",
      "source": [
        "class MyModel(Model):\n",
        "  def __init__(self):\n",
        "    super(MyModel, self).__init__()\n",
        "    self.conv1 = Conv2D(32, 3, activation='relu')\n",
        "    self.flatten = Flatten()\n",
        "    self.d1 = Dense(128, activation='relu')\n",
        "    self.d2 = Dense(10, activation='softmax')\n",
        "\n",
        "  def call(self, x):\n",
        "    x = self.conv1(x)\n",
        "    x = self.flatten(x)\n",
        "    x = self.d1(x)\n",
        "    return self.d2(x)\n",
        "  \n",
        "model = MyModel()"
      ],
      "execution_count": 0,
      "outputs": []
    },
    {
      "metadata": {
        "id": "cmopLdG72Bgv",
        "colab_type": "text"
      },
      "cell_type": "markdown",
      "source": [
        "#### Optimizer and Loss Function"
      ]
    },
    {
      "metadata": {
        "id": "QwQhYoZt1XgB",
        "colab_type": "code",
        "colab": {}
      },
      "cell_type": "code",
      "source": [
        "loss_object = tf.keras.losses.SparseCategoricalCrossentropy()\n",
        "optimizer = tf.keras.optimizers.Adam()"
      ],
      "execution_count": 0,
      "outputs": []
    },
    {
      "metadata": {
        "id": "ZBezq-A32VWS",
        "colab_type": "code",
        "colab": {}
      },
      "cell_type": "code",
      "source": [
        "train_loss = tf.keras.metrics.Mean(name='train_loss')\n",
        "train_accuracy = tf.keras.metrics.SparseCategoricalAccuracy(name='train_accuracy')\n",
        "\n",
        "test_loss = tf.keras.metrics.Mean(name = 'test_loss')\n",
        "test_accuracy = tf.keras.metrics.SparseCategoricalAccuracy(name='test_accuracy')"
      ],
      "execution_count": 0,
      "outputs": []
    },
    {
      "metadata": {
        "id": "1-Xzvs3J3AxK",
        "colab_type": "text"
      },
      "cell_type": "markdown",
      "source": [
        "#### Train and Test Functions"
      ]
    },
    {
      "metadata": {
        "id": "OjUlIUKC3-80",
        "colab_type": "code",
        "colab": {}
      },
      "cell_type": "code",
      "source": [
        "## Function for Testing the model\n",
        "def test_step(image, label):\n",
        "  predictions = model(image)\n",
        "  t_loss = loss_object(label, predictions)\n",
        "  \n",
        "  test_loss(t_loss)\n",
        "  test_accuracy(label, predictions)"
      ],
      "execution_count": 0,
      "outputs": []
    },
    {
      "metadata": {
        "id": "w0biiNrq24sg",
        "colab_type": "code",
        "colab": {}
      },
      "cell_type": "code",
      "source": [
        "## Function for training model\n",
        "def train_step(image, label):\n",
        "  with tf.GradientTape() as tape:\n",
        "    predictions = model(image)\n",
        "    loss = loss_object(label, predictions)\n",
        "  gradients = tape.gradient(loss,model.trainable_variables)\n",
        "  optimizer.apply_gradients(zip(gradients, model.trainable_variables))\n",
        "  \n",
        "  train_loss(loss)\n",
        "  train_accuracy(label, predictions)"
      ],
      "execution_count": 0,
      "outputs": []
    },
    {
      "metadata": {
        "id": "BQ8glkVJ4d2C",
        "colab_type": "text"
      },
      "cell_type": "markdown",
      "source": [
        "### NOW TRAINING AND TESTING"
      ]
    },
    {
      "metadata": {
        "id": "s_lbD2IN4bBq",
        "colab_type": "code",
        "colab": {
          "base_uri": "https://localhost:8080/",
          "height": 102
        },
        "outputId": "77e8dace-8e18-441e-8ba3-dded19abd3de"
      },
      "cell_type": "code",
      "source": [
        "EPOCHS = 5\n",
        "\n",
        "for epoch in range(EPOCHS):\n",
        "  for image, label in mnist_train:\n",
        "    train_step(image, label)\n",
        "    \n",
        "  for test_image, test_label in mnist_test:\n",
        "    test_step(test_image, test_label)\n",
        "    \n",
        "  template = 'EPOCH: {}, LOSS: {}, ACCURACY: {}, Test Loss: {}, Test Accuracy: {}'\n",
        "  print(template.format(epoch+1, train_loss.result(),\n",
        "                       train_accuracy.result()*100,\n",
        "                       test_loss.result(),\n",
        "                       test_accuracy.result()*100))"
      ],
      "execution_count": 42,
      "outputs": [
        {
          "output_type": "stream",
          "text": [
            "EPOCH: 1, LOSS: 0.03155630826950073, ACCURACY: 99.02726745605469, Test Loss: 0.06482817232608795, Test Accuracy: 98.24874877929688\n",
            "EPOCH: 2, LOSS: 0.028559476137161255, ACCURACY: 99.11962127685547, Test Loss: 0.06584858894348145, Test Accuracy: 98.27444458007812\n",
            "EPOCH: 3, LOSS: 0.026086557656526566, ACCURACY: 99.19664001464844, Test Loss: 0.06747660040855408, Test Accuracy: 98.2770004272461\n",
            "EPOCH: 4, LOSS: 0.024069175124168396, ACCURACY: 99.26005554199219, Test Loss: 0.07151933759450912, Test Accuracy: 98.24909210205078\n",
            "EPOCH: 5, LOSS: 0.02238628827035427, ACCURACY: 99.31170654296875, Test Loss: 0.07356638461351395, Test Accuracy: 98.25250244140625\n"
          ],
          "name": "stdout"
        }
      ]
    },
    {
      "metadata": {
        "id": "vmPQUoLxAW_I",
        "colab_type": "text"
      },
      "cell_type": "markdown",
      "source": [
        "## ACCURACY 99.3%"
      ]
    },
    {
      "metadata": {
        "id": "uTpoCAE05lHx",
        "colab_type": "code",
        "colab": {}
      },
      "cell_type": "code",
      "source": [
        ""
      ],
      "execution_count": 0,
      "outputs": []
    }
  ]
}